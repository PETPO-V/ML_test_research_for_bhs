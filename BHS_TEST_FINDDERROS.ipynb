{
  "nbformat": 4,
  "nbformat_minor": 0,
  "metadata": {
    "colab": {
      "provenance": []
    },
    "kernelspec": {
      "name": "python3",
      "display_name": "Python 3"
    },
    "language_info": {
      "name": "python"
    }
  },
  "cells": [
    {
      "cell_type": "markdown",
      "source": [
        "#  ✅ЗАДАЧА ДАННОГО КОДА\n",
        "Реализовать и обучить MLP для классификации изображений из набора данных FashionMNIST (https://www.kaggle.com/datasets/zalando-research/fashionmnist), который содержит изображения различных предметов одежды.\n",
        "\n",
        "# ✅ЧТО ЗДЕСЬ ДЕЛАЕТСЯ И КАК?\n",
        "Используются библиотеки **torchvision** и **torch**, чтобы загрузить набор данных FashionMNIST.\n",
        "Данные преобразуются в тензоры с помощью **transforms.ToTensor()**, что позволяет модели обрабатывать изображения.\n",
        "\n",
        "Загрузчики (DataLoader) создаются для тренировочного и тестового наборов данных. Это упрощает итерацию по данным во время обучения и тестирования.\n",
        "\n",
        "Создан класс NNModel, который определяет архитектуру нейронной сети:\n",
        "Сеть состоит из нескольких линейных слоев с функцией активации ReLU и слоями нормализации.\n",
        "Указан параметр дропаут, чтобы избежать переобучения.\n",
        "Обработчик входных данных в модели изменён для соответствия размеру изображений 28x28, что эквивалентно 784 (28*28) входам.\n",
        "\n",
        "Обучение происходит в цикле, который выполняется в течение 1000 эпох.\n",
        "Используется функция потерь **CrossEntropyLoss** и оптимизатор **Adam** для обновления весов модели.\n",
        "Каждый батч данных проходит через модель, вычисляется функция потерь, и выполняется обратное распространение ошибок для обновления весов."
      ],
      "metadata": {
        "id": "DtZWveDQ9nll"
      }
    },
    {
      "cell_type": "code",
      "execution_count": 1,
      "metadata": {
        "colab": {
          "base_uri": "https://localhost:8080/"
        },
        "id": "xxCdVPfWeeg2",
        "outputId": "c17923bb-2890-4004-893a-b51663cc8f29"
      },
      "outputs": [
        {
          "output_type": "stream",
          "name": "stdout",
          "text": [
            "Collecting torchviz\n",
            "  Downloading torchviz-0.0.2.tar.gz (4.9 kB)\n",
            "  Preparing metadata (setup.py) ... \u001b[?25l\u001b[?25hdone\n",
            "Requirement already satisfied: torch in /usr/local/lib/python3.10/dist-packages (from torchviz) (2.4.1+cu121)\n",
            "Requirement already satisfied: graphviz in /usr/local/lib/python3.10/dist-packages (from torchviz) (0.20.3)\n",
            "Requirement already satisfied: filelock in /usr/local/lib/python3.10/dist-packages (from torch->torchviz) (3.16.1)\n",
            "Requirement already satisfied: typing-extensions>=4.8.0 in /usr/local/lib/python3.10/dist-packages (from torch->torchviz) (4.12.2)\n",
            "Requirement already satisfied: sympy in /usr/local/lib/python3.10/dist-packages (from torch->torchviz) (1.13.3)\n",
            "Requirement already satisfied: networkx in /usr/local/lib/python3.10/dist-packages (from torch->torchviz) (3.3)\n",
            "Requirement already satisfied: jinja2 in /usr/local/lib/python3.10/dist-packages (from torch->torchviz) (3.1.4)\n",
            "Requirement already satisfied: fsspec in /usr/local/lib/python3.10/dist-packages (from torch->torchviz) (2024.6.1)\n",
            "Requirement already satisfied: MarkupSafe>=2.0 in /usr/local/lib/python3.10/dist-packages (from jinja2->torch->torchviz) (2.1.5)\n",
            "Requirement already satisfied: mpmath<1.4,>=1.1.0 in /usr/local/lib/python3.10/dist-packages (from sympy->torch->torchviz) (1.3.0)\n",
            "Building wheels for collected packages: torchviz\n",
            "  Building wheel for torchviz (setup.py) ... \u001b[?25l\u001b[?25hdone\n",
            "  Created wheel for torchviz: filename=torchviz-0.0.2-py3-none-any.whl size=4132 sha256=ba0d64093cc84a757ad2b350340c3e0bbb3638fc15ec403e0b1f473f1445d5be\n",
            "  Stored in directory: /root/.cache/pip/wheels/4c/97/88/a02973217949e0db0c9f4346d154085f4725f99c4f15a87094\n",
            "Successfully built torchviz\n",
            "Installing collected packages: torchviz\n",
            "Successfully installed torchviz-0.0.2\n"
          ]
        }
      ],
      "source": [
        "!pip install torchviz"
      ]
    },
    {
      "cell_type": "code",
      "source": [
        "import torch\n",
        "import torch.nn as nn\n",
        "from torch.utils.data import DataLoader, Dataset\n",
        "import torchvision\n",
        "import numpy as np\n",
        "from sklearn.model_selection import train_test_split\n",
        "import torchvision.transforms as transforms\n",
        "from tqdm import tqdm\n",
        "from torchviz import make_dot\n",
        "import matplotlib.pyplot as plt"
      ],
      "metadata": {
        "id": "nx1nzwVtefjO"
      },
      "execution_count": 2,
      "outputs": []
    },
    {
      "cell_type": "code",
      "source": [
        "transform = transforms.ToTensor()\n",
        "train_dataset = torchvision.datasets.FashionMNIST(root='./data', train=True, download=True, transform=transform)\n",
        "test_dataset = torchvision.datasets.FashionMNIST(root = \"./data\", train = False, download=True, transform=transform)"
      ],
      "metadata": {
        "colab": {
          "base_uri": "https://localhost:8080/"
        },
        "id": "ZuYKh7sCeix4",
        "outputId": "b91ed9cb-fffb-4dec-cf96-fb9dedb2675a"
      },
      "execution_count": 3,
      "outputs": [
        {
          "output_type": "stream",
          "name": "stdout",
          "text": [
            "Downloading http://fashion-mnist.s3-website.eu-central-1.amazonaws.com/train-images-idx3-ubyte.gz\n",
            "Downloading http://fashion-mnist.s3-website.eu-central-1.amazonaws.com/train-images-idx3-ubyte.gz to ./data/FashionMNIST/raw/train-images-idx3-ubyte.gz\n"
          ]
        },
        {
          "output_type": "stream",
          "name": "stderr",
          "text": [
            "100%|██████████| 26421880/26421880 [00:01<00:00, 14007926.22it/s]\n"
          ]
        },
        {
          "output_type": "stream",
          "name": "stdout",
          "text": [
            "Extracting ./data/FashionMNIST/raw/train-images-idx3-ubyte.gz to ./data/FashionMNIST/raw\n",
            "\n",
            "Downloading http://fashion-mnist.s3-website.eu-central-1.amazonaws.com/train-labels-idx1-ubyte.gz\n",
            "Downloading http://fashion-mnist.s3-website.eu-central-1.amazonaws.com/train-labels-idx1-ubyte.gz to ./data/FashionMNIST/raw/train-labels-idx1-ubyte.gz\n"
          ]
        },
        {
          "output_type": "stream",
          "name": "stderr",
          "text": [
            "100%|██████████| 29515/29515 [00:00<00:00, 314347.81it/s]\n"
          ]
        },
        {
          "output_type": "stream",
          "name": "stdout",
          "text": [
            "Extracting ./data/FashionMNIST/raw/train-labels-idx1-ubyte.gz to ./data/FashionMNIST/raw\n",
            "\n",
            "Downloading http://fashion-mnist.s3-website.eu-central-1.amazonaws.com/t10k-images-idx3-ubyte.gz\n",
            "Downloading http://fashion-mnist.s3-website.eu-central-1.amazonaws.com/t10k-images-idx3-ubyte.gz to ./data/FashionMNIST/raw/t10k-images-idx3-ubyte.gz\n"
          ]
        },
        {
          "output_type": "stream",
          "name": "stderr",
          "text": [
            "100%|██████████| 4422102/4422102 [00:01<00:00, 2482115.14it/s]\n"
          ]
        },
        {
          "output_type": "stream",
          "name": "stdout",
          "text": [
            "Extracting ./data/FashionMNIST/raw/t10k-images-idx3-ubyte.gz to ./data/FashionMNIST/raw\n",
            "\n",
            "Downloading http://fashion-mnist.s3-website.eu-central-1.amazonaws.com/t10k-labels-idx1-ubyte.gz\n",
            "Downloading http://fashion-mnist.s3-website.eu-central-1.amazonaws.com/t10k-labels-idx1-ubyte.gz to ./data/FashionMNIST/raw/t10k-labels-idx1-ubyte.gz\n"
          ]
        },
        {
          "output_type": "stream",
          "name": "stderr",
          "text": [
            "100%|██████████| 5148/5148 [00:00<00:00, 16712288.69it/s]"
          ]
        },
        {
          "output_type": "stream",
          "name": "stdout",
          "text": [
            "Extracting ./data/FashionMNIST/raw/t10k-labels-idx1-ubyte.gz to ./data/FashionMNIST/raw\n",
            "\n"
          ]
        },
        {
          "output_type": "stream",
          "name": "stderr",
          "text": [
            "\n"
          ]
        }
      ]
    },
    {
      "cell_type": "markdown",
      "source": [
        "✅**КОММЕНТАРИЙ**\n",
        "\n",
        "В этой ячейке я изменил значение ***shuffle = False*** на ***shuffle = True*** для тренировочного сета, т.к. обычно перемешивание данных во время обучения полезно для предотвращения переобучения. Если это перемешивание нужно отключить, можно оставить ***shuffle=False***."
      ],
      "metadata": {
        "id": "Ae8o_Q9ApXvJ"
      }
    },
    {
      "cell_type": "code",
      "source": [
        "# batch_size = 64\n",
        "# train_loader = DataLoader(train_dataset, batch_size=batch_size, shuffle=False)\n",
        "# test_loader = DataLoader(test_dataset, batch_size=batch_size, shuffle=False)"
      ],
      "metadata": {
        "id": "uQGU0KxBpVjO"
      },
      "execution_count": null,
      "outputs": []
    },
    {
      "cell_type": "code",
      "source": [
        "batch_size = 64\n",
        "train_loader = DataLoader(train_dataset, batch_size=batch_size, shuffle=True)\n",
        "test_loader = DataLoader(test_dataset, batch_size=batch_size, shuffle=False)"
      ],
      "metadata": {
        "id": "KJ2VwGp1ekS6"
      },
      "execution_count": 4,
      "outputs": []
    },
    {
      "cell_type": "code",
      "source": [
        "train_item = next(iter(train_loader))\n",
        "test_item = next(iter(test_loader))\n",
        "len(train_item), len(test_item), train_item[0].shape, train_item[1].shape"
      ],
      "metadata": {
        "colab": {
          "base_uri": "https://localhost:8080/"
        },
        "id": "I9nHTAJ2elxh",
        "outputId": "86f37b1c-7d9c-4ca8-a377-657010eeeb08"
      },
      "execution_count": 5,
      "outputs": [
        {
          "output_type": "execute_result",
          "data": {
            "text/plain": [
              "(2, 2, torch.Size([64, 1, 28, 28]), torch.Size([64]))"
            ]
          },
          "metadata": {},
          "execution_count": 5
        }
      ]
    },
    {
      "cell_type": "markdown",
      "source": [
        "✅**КОММЕНТАРИЙ**\n",
        "\n",
        "\n",
        "В списке self.norm переменная inp_size не определена. Правильный индекс должен быть подтянут из layers_size. В данной строке должен использоваться соответствующий индекс при создании слоя нормализации. Поскольку BatchNorm1d применяется к скрытым слоям, правильно указать его для всех, кроме последнего.\n",
        "\n",
        "\n",
        "---\n",
        "\n",
        "\n",
        "\n",
        "В self.layers и self.norm создаются списки слоев, но они не добавлены в качестве модуля сети (nn.ModuleList). В PyTorch списки обычных Python объектов не отслеживаются, поэтому модель не будет правильно обучаться или выполняться. Нужно преобразовать их в nn.ModuleList.\n",
        "\n",
        "\n",
        "\n",
        "---\n",
        "\n",
        "Параметр dropout_prob = 1.0 означает, что все нейроны будут выключены во время обучения. Обычно значение дропаута варьируется от 0.0 до 0.5. Далее, по коду, мы, кончено, это учтём, но сделаем это сразу внутри класса."
      ],
      "metadata": {
        "id": "aNCn7-zVqx7p"
      }
    },
    {
      "cell_type": "code",
      "source": [
        "class NNModel(nn.Module):\n",
        "    def __init__(self,\n",
        "                 layers_size=[784, 32, 16, 10],  # Изменено с 49 на 784\n",
        "                 dropout_prob=0.5\n",
        "                 ):\n",
        "        super().__init__()\n",
        "\n",
        "        # Сверточный слой убираем, так как не нужен для MLP\n",
        "        # self.conv = nn.Conv2d(1, 1, kernel_size=1, stride=1)\n",
        "\n",
        "        self.layers = nn.ModuleList([nn.Linear(layers_size[i], layers_size[i+1]) for i in range(len(layers_size)-1)])\n",
        "        # BatchNorm слои для всех, кроме последнего линейного слоя\n",
        "        self.norm = nn.ModuleList([nn.BatchNorm1d(layers_size[i+1], affine=False) for i in range(len(layers_size)-2)])\n",
        "\n",
        "        self.relu = nn.ReLU()\n",
        "        self.dropout = nn.Dropout(p=dropout_prob)\n",
        "\n",
        "    def forward(self, batch):\n",
        "        bs = batch.shape[0]\n",
        "        batch = batch.reshape(bs, -1)\n",
        "\n",
        "        for i, layer in enumerate(self.layers):\n",
        "            if i < len(self.layers) - 1:\n",
        "                batch = self.dropout(self.relu(self.norm[i](layer(batch))))\n",
        "            else:\n",
        "                batch = layer(batch)\n",
        "        return batch\n",
        "\n",
        "    def print_net(self):\n",
        "        for i, layer in enumerate(self.layers):\n",
        "            if i < len(self.layers) - 1:\n",
        "                print(layer)\n",
        "                print(self.norm[i])\n",
        "                print(self.relu)\n",
        "                print(self.dropout)\n",
        "            else:\n",
        "                print(layer)\n"
      ],
      "metadata": {
        "id": "LNg6sXRXgBx6"
      },
      "execution_count": 11,
      "outputs": []
    },
    {
      "cell_type": "markdown",
      "source": [
        "✅**КОММЕНТАРИЙ**\n",
        "\n",
        "Здесь строки закомментированны, т.к. они (судя по их назначению) служат/служили для отладки"
      ],
      "metadata": {
        "id": "vKYUx2PnsdYg"
      }
    },
    {
      "cell_type": "code",
      "source": [
        "mlp  = NNModel(dropout_prob = 0.1)\n",
        "\n",
        "# predictions = mlp(train_item[0])\n",
        "# make_dot(predictions, params=dict(mlp.named_parameters()))\n",
        "mlp.print_net()"
      ],
      "metadata": {
        "colab": {
          "base_uri": "https://localhost:8080/"
        },
        "id": "CmtgJW2lfPuk",
        "outputId": "92767367-4294-451b-e09d-35da69d80304"
      },
      "execution_count": 12,
      "outputs": [
        {
          "output_type": "stream",
          "name": "stdout",
          "text": [
            "Linear(in_features=784, out_features=32, bias=True)\n",
            "BatchNorm1d(32, eps=1e-05, momentum=0.1, affine=False, track_running_stats=True)\n",
            "ReLU()\n",
            "Dropout(p=0.1, inplace=False)\n",
            "Linear(in_features=32, out_features=16, bias=True)\n",
            "BatchNorm1d(16, eps=1e-05, momentum=0.1, affine=False, track_running_stats=True)\n",
            "ReLU()\n",
            "Dropout(p=0.1, inplace=False)\n",
            "Linear(in_features=16, out_features=10, bias=True)\n"
          ]
        }
      ]
    },
    {
      "cell_type": "code",
      "source": [
        "import torch.optim as optim"
      ],
      "metadata": {
        "id": "CJNFzYNzfqwM"
      },
      "execution_count": 13,
      "outputs": []
    },
    {
      "cell_type": "markdown",
      "source": [
        "✅**КОММЕНТАРИЙ**\n",
        "\n",
        "\n",
        "В части кода, где выполняется оценка модели (eval part), обратное распространение loss.backward() и шаг оптимизатора optimizer.step() выполняются внутри блока torch.no_grad(). Это неверно, потому что torch.no_grad() отключает вычисление градиентов, и эти операции не должны быть выполнены в режиме оценки.\n",
        "\n",
        "\n",
        "---\n",
        "\n",
        "В коде, обучение и оценка модели выполняются только на одном батче данных train_item. В реальных условиях необходимо проходить по всем батчам тренировочного и валидационного датасетов с использованием train_loader и test_loader.\n",
        "\n",
        "\n",
        "\n",
        "---\n",
        "\n",
        "Код строит графики потерь, что помогает отслеживать процесс обучения, но можно улучшить его читабельность и добавить подписи к осям.\n",
        "\n",
        "---\n",
        "\n",
        "Ещё, тут велезала ошибка, что код ожидает вход размером 49 (что не соответствует изображениям 28x28). Это может быть из-за неправильного использования сверточного слоя или из-за того, что модель не обрабатывает изображения с ожидаемым размером. И я немного поменял архитектуру сети, изменив layers_size"
      ],
      "metadata": {
        "id": "eJkVB43ttrVB"
      }
    },
    {
      "cell_type": "code",
      "source": [
        "num_epochs = 5 #Поставил 5 эпох чисто убедиться, что этот блок запускается, конечно, этого мало\n",
        "DEBUG = False\n",
        "\n",
        "ce_loss = nn.CrossEntropyLoss()\n",
        "optimizer = optim.Adam(mlp.parameters(), lr=0.01)\n",
        "\n",
        "\n",
        "logger = {'train': [], 'eval': []}\n",
        "\n",
        "\n",
        "for epoch in range(num_epochs):\n",
        "\n",
        "    epoch_stat = []\n",
        "\n",
        "    mlp.train()\n",
        "    for batch in train_loader:\n",
        "        images, labels = batch\n",
        "        images, labels = images.float(), labels.long()\n",
        "\n",
        "        predictions = mlp(images)\n",
        "\n",
        "        loss = ce_loss(predictions, labels)\n",
        "\n",
        "        optimizer.zero_grad()\n",
        "        loss.backward()\n",
        "        optimizer.step()\n",
        "\n",
        "        epoch_stat.append(loss.item())\n",
        "\n",
        "    if DEBUG: print(f\"train loss value = {np.mean(epoch_stat)}\")\n",
        "    logger['train'].append(np.mean(epoch_stat))\n",
        "\n",
        "    with torch.no_grad():\n",
        "        eval_stat = []\n",
        "        mlp.eval()\n",
        "\n",
        "        for batch in test_loader:\n",
        "            images, labels = batch\n",
        "            images, labels = images.float(), labels.long()\n",
        "\n",
        "            predictions = mlp(images)\n",
        "            loss = ce_loss(predictions, labels)\n",
        "\n",
        "            eval_stat.append(loss.item())\n",
        "\n",
        "        if DEBUG: print(f\"eval loss value = {np.mean(eval_stat)}\")\n",
        "        logger['eval'].append(np.mean(eval_stat))\n",
        "\n",
        "plt.plot(logger['train'], label='Train loss')\n",
        "plt.plot(logger['eval'], label='Eval loss')\n",
        "plt.xlabel('Epoch')\n",
        "plt.ylabel('Loss')\n",
        "plt.legend()\n",
        "plt.show()"
      ],
      "metadata": {
        "colab": {
          "base_uri": "https://localhost:8080/",
          "height": 449
        },
        "id": "lRQB_Rg6ffDu",
        "outputId": "757198a1-e882-4ec1-81e6-575a7880f3d3"
      },
      "execution_count": 15,
      "outputs": [
        {
          "output_type": "display_data",
          "data": {
            "text/plain": [
              "<Figure size 640x480 with 1 Axes>"
            ],
            "image/png": "[encoded data removed]"
          },
          "metadata": {}
        }
      ]
    },
    {
      "cell_type": "code",
      "source": [
        "mlp"
      ],
      "metadata": {
        "colab": {
          "base_uri": "https://localhost:8080/"
        },
        "id": "wi2-m_vwi_GK",
        "outputId": "7918ae29-f81e-40a3-c44e-2144b1629e1c"
      },
      "execution_count": 16,
      "outputs": [
        {
          "output_type": "execute_result",
          "data": {
            "text/plain": [
              "NNModel(\n",
              "  (layers): ModuleList(\n",
              "    (0): Linear(in_features=784, out_features=32, bias=True)\n",
              "    (1): Linear(in_features=32, out_features=16, bias=True)\n",
              "    (2): Linear(in_features=16, out_features=10, bias=True)\n",
              "  )\n",
              "  (norm): ModuleList(\n",
              "    (0): BatchNorm1d(32, eps=1e-05, momentum=0.1, affine=False, track_running_stats=True)\n",
              "    (1): BatchNorm1d(16, eps=1e-05, momentum=0.1, affine=False, track_running_stats=True)\n",
              "  )\n",
              "  (relu): ReLU()\n",
              "  (dropout): Dropout(p=0.1, inplace=False)\n",
              ")"
            ]
          },
          "metadata": {},
          "execution_count": 16
        }
      ]
    },
    {
      "cell_type": "markdown",
      "source": [
        "✅**КОММЕНТАРИЙ**\n",
        "\n",
        "Здесь строки тоже закомментированны ввиду необязательности их в работе модели (они служат для анализа/отладки)"
      ],
      "metadata": {
        "id": "P85VqWahu2UA"
      }
    },
    {
      "cell_type": "code",
      "source": [
        "pytorch_total_params = sum(p.numel() for p in mlp.parameters())\n",
        "pytorch_total_params"
      ],
      "metadata": {
        "colab": {
          "base_uri": "https://localhost:8080/"
        },
        "id": "gj4XadKxjLuU",
        "outputId": "c833253b-f74a-4937-cdd7-5e0d255fb1bb"
      },
      "execution_count": 17,
      "outputs": [
        {
          "output_type": "execute_result",
          "data": {
            "text/plain": [
              "25818"
            ]
          },
          "metadata": {},
          "execution_count": 17
        }
      ]
    }
  ]
}